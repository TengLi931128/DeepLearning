{
 "cells": [
  {
   "cell_type": "code",
   "execution_count": 2,
   "metadata": {},
   "outputs": [
    {
     "data": {
      "image/png": "[encoded data removed]",
      "text/plain": [
       "<Figure size 432x288 with 1 Axes>"
      ]
     },
     "metadata": {
      "needs_background": "light"
     },
     "output_type": "display_data"
    }
   ],
   "source": [
    "'''\n",
    "Linear Regression\n",
    "Implement a simple Linear Regression with Numpy to fit a line h(x)=w1+w2*x+w3*x^2\n",
    "Teng Li\n",
    "2020.06.28\n",
    "'''\n",
    "\n",
    "from matplotlib import pyplot as plt\n",
    "import torch\n",
    "\n",
    "\n",
    "def generate_data(f,spread, x_start, x_end, delta=1):\n",
    "    '''\n",
    "    generate a number of data points from f with some spread\n",
    "    '''\n",
    "    x = torch.arange(x_start,x_end,delta)\n",
    "    y = f(x) + (torch.rand(*x.shape) - 0.5) * spread\n",
    "    return x,y\n",
    "\n",
    "def linear_regression(X,Y):\n",
    "    '''\n",
    "    W = ((XT*X)^-1)*XT*Y\n",
    "    input: (x,y) is the set of data points  \n",
    "    return: W that h(x)=w0 + w1*x + w2*x^2\n",
    "    '''\n",
    "    X = torch.unsqueeze(X,axis=1)\n",
    "    ones = torch.full_like(X,1)\n",
    "    X_squear = pow(X,2)\n",
    "    X = torch.cat((ones,X,X_squear),1)\n",
    "    W = torch.inverse(torch.transpose(X,0,1)@X)@X.T@Y\n",
    "    return W\n",
    "\n",
    "#define the function and generate some points\n",
    "f = lambda x: 2+3*x+4*pow(x,2)\n",
    "X,Y = generate_data(f,5,0,10,0.05)\n",
    "#linear regression\n",
    "W = linear_regression(X,Y)\n",
    "#plot the points and f\n",
    "plt.figure()\n",
    "plt.plot(X,Y,'.')\n",
    "plt.plot(X,f(X),linewidth=3)\n",
    "plt.plot(X,W[0]+W[1]*X+W[2]*pow(X,2),linewidth=3)\n",
    "plt.show()"
   ]
  },
  {
   "cell_type": "code",
   "execution_count": null,
   "metadata": {},
   "outputs": [],
   "source": []
  }
 ],
 "metadata": {
  "kernelspec": {
   "display_name": "Python 3",
   "language": "python",
   "name": "python3"
  },
  "language_info": {
   "codemirror_mode": {
    "name": "ipython",
    "version": 3
   },
   "file_extension": ".py",
   "mimetype": "text/x-python",
   "name": "python",
   "nbconvert_exporter": "python",
   "pygments_lexer": "ipython3",
   "version": "3.7.4"
  }
 },
 "nbformat": 4,
 "nbformat_minor": 2
}
