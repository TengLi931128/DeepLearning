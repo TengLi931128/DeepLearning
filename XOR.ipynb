{
 "cells": [
  {
   "cell_type": "code",
   "execution_count": 1,
   "metadata": {},
   "outputs": [
    {
     "data": {
      "text/plain": [
       "'\\nLearning XOR\\nTeng Li\\n05.Jul.2020\\n'"
      ]
     },
     "execution_count": 1,
     "metadata": {},
     "output_type": "execute_result"
    }
   ],
   "source": [
    "\"\"\"\n",
    "Learning XOR\n",
    "Teng Li\n",
    "05.Jul.2020\n",
    "\"\"\""
   ]
  },
  {
   "cell_type": "markdown",
   "metadata": {},
   "source": [
    "### Learning XOR\n",
    "the XOR function is defined as\n",
    "\\begin{equation}\n",
    "    x_1 \\oplus x_2 =\n",
    "    \\begin{cases}\n",
    "         0 \\quad x_1 = x_2\\\\\n",
    "         1 \\quad x_1 \\neq x_2\\\\\n",
    "    \\end{cases}.\n",
    "\\end{equation}\n"
   ]
  },
  {
   "cell_type": "code",
   "execution_count": 2,
   "metadata": {},
   "outputs": [
    {
     "data": {
      "text/plain": [
       "<Figure size 640x480 with 1 Axes>"
      ]
     },
     "metadata": {},
     "output_type": "display_data"
    }
   ],
   "source": [
    "'''\n",
    "In this task I want to use 'scikit-learn' to train a linear classifier to learn XOR,\n",
    "which is not linearly separable.\n",
    "'''\n",
    "\n",
    "import numpy as np\n",
    "from sklearn.linear_model import LinearRegression\n",
    "from matplotlib import pyplot\n",
    "\n",
    "X = np.asarray([[0,0],[0,1],[1,0],[1,1]])\n",
    "Y = np.asarray([[0],[1],[1],[0]])\n",
    "\n",
    "LR_model = LinearRegression()\n",
    "LR_model.fit(X,Y)\n",
    "\n",
    "pyplot.figure()\n",
    "pyplot.plot(X,LR_model.predict(X))\n",
    "pyplot.show()"
   ]
  },
  {
   "cell_type": "markdown",
   "metadata": {},
   "source": [
    "We can find LR didn't work well in this task.<br>\n",
    "So now I will use MLP to learn XOR, but only ***numpy*** will be used."
   ]
  },
  {
   "cell_type": "code",
   "execution_count": 3,
   "metadata": {
    "scrolled": false
   },
   "outputs": [],
   "source": [
    "#define the learning rate and weights\n",
    "lr = 0.5\n",
    "W1 = np.random.rand(2, 2) - 0.5\n",
    "W2 = np.random.rand(2, 1) - 0.5\n",
    "B1 = np.random.rand(1, 2) - 0.5\n",
    "B2 = np.random.rand(1, 1) - 0.5\n",
    "\n",
    "#define some function\n",
    "def sigmoid(x):\n",
    "    return 1 / (1 + np.exp(-x))\n",
    "\n",
    "def forward(x):\n",
    "    h1 = sigmoid(x @ W1 + B1)\n",
    "    y_hat = sigmoid(h1 @ W2 + B2)\n",
    "    return h1,y_hat\n",
    "\n",
    "def l2_loss(y, y_hat):\n",
    "    return (y - y_hat) ** 2 / 2\n",
    "\n",
    "def loss_deriv(y, y_out):\n",
    "    return y - y_out\n",
    "\n",
    "def sigmoid_deriv(s):\n",
    "    return (1 - s) * s\n",
    "\n",
    "def backward(x, y):\n",
    "    global W1, W2, B1, B2\n",
    "    h1, y_hat = forward(x)\n",
    "\n",
    "    dl = loss_deriv(y, y_hat)\n",
    "    dz2 = dl * sigmoid_deriv(y_hat)\n",
    "    db2 = dz2\n",
    "    dw2 = h1.T * dz2\n",
    "    \n",
    "    dh1 = dz2 * W2.T\n",
    "    dz1 = dh1 * sigmoid_deriv(h1)\n",
    "    dw1 = x.T * dz1\n",
    "    db1 = dz1\n",
    "    \n",
    "    W2 += lr * dw2\n",
    "    W1 += lr * dw1\n",
    "    B2 += lr * db2\n",
    "    B1 += lr * db1"
   ]
  },
  {
   "cell_type": "code",
   "execution_count": 4,
   "metadata": {},
   "outputs": [
    {
     "name": "stdout",
     "output_type": "stream",
     "text": [
      "  x\t y\t   y_hat\t    loss\n",
      "--------------------------------------------\n",
      "[0 0]\t[0]\t[[0.01603883]]\t[[0.00012862]]\n",
      "[0 1]\t[1]\t[[0.9835867]]\t[[0.0001347]]\n",
      "[1 0]\t[1]\t[[0.98199188]]\t[[0.00016215]]\n",
      "[1 1]\t[0]\t[[0.0214367]]\t[[0.00022977]]\n"
     ]
    }
   ],
   "source": [
    "# Training\n",
    "EPOCHS = 10000\n",
    "for _ in range(EPOCHS):\n",
    "    for x, y in zip(X, Y):\n",
    "        backward(x, y)\n",
    "print('  x\\t y\\t   y_hat\\t    loss')\n",
    "print('--------------------------------------------')\n",
    "for x, y in zip(X, Y):\n",
    "    _, y_hat = forward(x)\n",
    "    l = l2_loss(y, y_hat)\n",
    "    print('{}\\t{}\\t{}\\t{}'.format(x, y, y_hat, l))\n"
   ]
  }
 ],
 "metadata": {
  "kernelspec": {
   "display_name": "Python 3",
   "language": "python",
   "name": "python3"
  },
  "language_info": {
   "codemirror_mode": {
    "name": "ipython",
    "version": 3
   },
   "file_extension": ".py",
   "mimetype": "text/x-python",
   "name": "python",
   "nbconvert_exporter": "python",
   "pygments_lexer": "ipython3",
   "version": "3.7.4"
  }
 },
 "nbformat": 4,
 "nbformat_minor": 2
}
